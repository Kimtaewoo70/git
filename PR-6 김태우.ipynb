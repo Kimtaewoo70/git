{
 "cells": [
  {
   "cell_type": "code",
   "execution_count": 2,
   "id": "225291b9",
   "metadata": {},
   "outputs": [
    {
     "name": "stdout",
     "output_type": "stream",
     "text": [
      "{0: 'Ajou', 1: 'University', 2: 'and', 3: 'Business', 4: 'School'}\n"
     ]
    }
   ],
   "source": [
    "d1={i:j for i,j in enumerate(\"Ajou University and Business School\".split())}\n",
    "print(d1)"
   ]
  },
  {
   "cell_type": "code",
   "execution_count": 6,
   "id": "e25abfa8",
   "metadata": {},
   "outputs": [
    {
     "data": {
      "text/plain": [
       "[(1, 10, 100), (2, 20, 200), (3, 30, 300)]"
      ]
     },
     "execution_count": 6,
     "metadata": {},
     "output_type": "execute_result"
    }
   ],
   "source": [
    "a1=[1,2,3]\n",
    "b1=[10,20,30]\n",
    "c1=[100,200,300]\n",
    "\n",
    "list(zip(a1,b1,c1))"
   ]
  },
  {
   "cell_type": "code",
   "execution_count": 7,
   "id": "f13f01ee",
   "metadata": {},
   "outputs": [
    {
     "name": "stdout",
     "output_type": "stream",
     "text": [
      "[111, 222, 333]\n"
     ]
    }
   ],
   "source": [
    "a1=[1,2,3]\n",
    "b1=[10,20,30]\n",
    "c1=[100,200,300]\n",
    "\n",
    "list(zip(a1,b1,c1))\n",
    "d2=[sum(x)for x in zip(a1,b1,c1)]\n",
    "print(d2)"
   ]
  },
  {
   "cell_type": "code",
   "execution_count": 9,
   "id": "c60ae413",
   "metadata": {},
   "outputs": [
    {
     "name": "stdout",
     "output_type": "stream",
     "text": [
      "6\n"
     ]
    }
   ],
   "source": [
    "print((lambda x:x+1)(5))"
   ]
  },
  {
   "cell_type": "code",
   "execution_count": 10,
   "id": "a9dc63be",
   "metadata": {},
   "outputs": [],
   "source": [
    "st=\"ajskdlfjakslasdwgafdhhqdjasdffkalsjdgklajsdlkg:jasdg\"\n",
    "dict_ch={}"
   ]
  },
  {
   "cell_type": "code",
   "execution_count": 25,
   "id": "85dd6e70",
   "metadata": {},
   "outputs": [
    {
     "data": {
      "text/plain": [
       "{'a': 8,\n",
       " 'j': 6,\n",
       " 's': 7,\n",
       " 'k': 5,\n",
       " 'd': 8,\n",
       " 'l': 5,\n",
       " 'f': 4,\n",
       " 'w': 1,\n",
       " 'g': 4,\n",
       " 'h': 2,\n",
       " 'q': 1,\n",
       " ':': 1}"
      ]
     },
     "execution_count": 25,
     "metadata": {},
     "output_type": "execute_result"
    }
   ],
   "source": [
    "for ch in st:\n",
    "    dict_ch[ch]=dict_ch.get(ch,0)+1\n",
    "dict_ch"
   ]
  },
  {
   "cell_type": "code",
   "execution_count": 26,
   "id": "0b644a4d",
   "metadata": {},
   "outputs": [
    {
     "ename": "SyntaxError",
     "evalue": "expression cannot contain assignment, perhaps you meant \"==\"? (Temp/ipykernel_2420/2968764201.py, line 6)",
     "output_type": "error",
     "traceback": [
      "\u001b[1;36m  File \u001b[1;32m\"C:\\Users\\KTW~1.DES\\AppData\\Local\\Temp/ipykernel_2420/2968764201.py\"\u001b[1;36m, line \u001b[1;32m6\u001b[0m\n\u001b[1;33m    sorted_dict_ch=sorted(list(dict_ch.items()).key=lambdax:x[1].reverse=True)\u001b[0m\n\u001b[1;37m                          ^\u001b[0m\n\u001b[1;31mSyntaxError\u001b[0m\u001b[1;31m:\u001b[0m expression cannot contain assignment, perhaps you meant \"==\"?\n"
     ]
    }
   ],
   "source": [
    "st=\"ajskdlfjakslasdwgafdhhqdjasdffkalsjdgklajsdlkg:jasdg\"\n",
    "dict_ch={}\n",
    "for ch in st:\n",
    "    dict_ch[ch]=dict_ch.get(ch,0) + 1\n",
    "dict_ch\n",
    "sorted_dict_ch=sorted(list(dict_ch.items()).key=lambdax:x[1].reverse=True)\n",
    "sorted_dict_ch"
   ]
  },
  {
   "cell_type": "code",
   "execution_count": 18,
   "id": "e785991d",
   "metadata": {},
   "outputs": [
    {
     "name": "stdout",
     "output_type": "stream",
     "text": [
      "[111, 222, 333]\n"
     ]
    }
   ],
   "source": [
    "a1=[1,2,3]\n",
    "b1=[10,20,30]\n",
    "c1=[100,200,300]\n",
    "m1=[[1,2,3],[10,20,30],[100,200,300]]\n",
    "list(zip(a1,b1,c1))\n",
    "d2=[sum(x)for x in zip(a1,b1,c1)]\n",
    "print(d2)"
   ]
  },
  {
   "cell_type": "code",
   "execution_count": 19,
   "id": "968e0248",
   "metadata": {},
   "outputs": [
    {
     "name": "stdout",
     "output_type": "stream",
     "text": [
      "(1, 10, 100)\n",
      "(2, 20, 200)\n",
      "(3, 30, 300)\n"
     ]
    }
   ],
   "source": [
    "m1=[[1,2,3],[10,20,30],[100,200,300]]\n",
    "for data in zip(*m1):\n",
    "    print(data)\n",
    "  "
   ]
  },
  {
   "cell_type": "code",
   "execution_count": 20,
   "id": "61cc4577",
   "metadata": {},
   "outputs": [
    {
     "name": "stdout",
     "output_type": "stream",
     "text": [
      "[111, 222, 333]\n"
     ]
    }
   ],
   "source": [
    "m1=[[1,2,3],[10,20,30],[100,200,300]]\n",
    "m2=[sum(x) for x in zip(*m1)]\n",
    "print(m2)"
   ]
  },
  {
   "cell_type": "code",
   "execution_count": null,
   "id": "22448b82",
   "metadata": {},
   "outputs": [],
   "source": []
  }
 ],
 "metadata": {
  "kernelspec": {
   "display_name": "Python 3 (ipykernel)",
   "language": "python",
   "name": "python3"
  },
  "language_info": {
   "codemirror_mode": {
    "name": "ipython",
    "version": 3
   },
   "file_extension": ".py",
   "mimetype": "text/x-python",
   "name": "python",
   "nbconvert_exporter": "python",
   "pygments_lexer": "ipython3",
   "version": "3.9.7"
  }
 },
 "nbformat": 4,
 "nbformat_minor": 5
}
