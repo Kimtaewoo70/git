{
 "cells": [
  {
   "cell_type": "code",
   "execution_count": 3,
   "id": "fb8f911e",
   "metadata": {},
   "outputs": [
    {
     "name": "stdout",
     "output_type": "stream",
     "text": [
      "1 [2, 3]\n",
      "2. [0, 1, 1]\n"
     ]
    }
   ],
   "source": [
    "##b-test 함수 정의\n",
    "\n",
    "def b_test(eggs):\n",
    "    eggs.append(1)\n",
    "    eggs=[2,3]\n",
    "    print(\"1\",eggs)\n",
    "\n",
    " ##함수 사용\n",
    "ham=[0,1]\n",
    "b_test(ham)\n",
    "print(\"2.\",ham)    "
   ]
  },
  {
   "cell_type": "code",
   "execution_count": 6,
   "id": "c7120d04",
   "metadata": {},
   "outputs": [
    {
     "name": "stdout",
     "output_type": "stream",
     "text": [
      "10\n",
      "1. 20\n",
      "2. 10\n"
     ]
    }
   ],
   "source": [
    "def test(t):\n",
    "    print(x)\n",
    "    t=20\n",
    "    print(\"1.\",t)\n",
    "\n",
    "x=10\n",
    "test(x)\n",
    "print(\"2.\",x)\n",
    "#print(\"3.\",t)"
   ]
  },
  {
   "cell_type": "code",
   "execution_count": 9,
   "id": "d5b8881d",
   "metadata": {},
   "outputs": [
    {
     "name": "stdout",
     "output_type": "stream",
     "text": [
      "1. 20\n",
      "4. 30\n",
      "2. 10\n"
     ]
    }
   ],
   "source": [
    "def test(t):\n",
    "    t=20\n",
    "    print(\"1.\",t)\n",
    "    x=30\n",
    "    print(\"4.\",x)\n",
    "\n",
    "x=10\n",
    "test(x)\n",
    "print(\"2.\",x)\n",
    "##print(\"3.\",t)"
   ]
  },
  {
   "cell_type": "code",
   "execution_count": 10,
   "id": "770b6716",
   "metadata": {},
   "outputs": [
    {
     "name": "stdout",
     "output_type": "stream",
     "text": [
      "1. 20\n",
      "4. 30\n",
      "2. 10\n"
     ]
    },
    {
     "ename": "NameError",
     "evalue": "name 't' is not defined",
     "output_type": "error",
     "traceback": [
      "\u001b[1;31m---------------------------------------------------------------------------\u001b[0m",
      "\u001b[1;31mNameError\u001b[0m                                 Traceback (most recent call last)",
      "\u001b[1;32mC:\\Users\\KTW~1.DES\\AppData\\Local\\Temp/ipykernel_15452/521337350.py\u001b[0m in \u001b[0;36m<module>\u001b[1;34m\u001b[0m\n\u001b[0;32m      8\u001b[0m \u001b[0mtest\u001b[0m\u001b[1;33m(\u001b[0m\u001b[0mx\u001b[0m\u001b[1;33m)\u001b[0m\u001b[1;33m\u001b[0m\u001b[1;33m\u001b[0m\u001b[0m\n\u001b[0;32m      9\u001b[0m \u001b[0mprint\u001b[0m\u001b[1;33m(\u001b[0m\u001b[1;34m\"2.\"\u001b[0m\u001b[1;33m,\u001b[0m\u001b[0mx\u001b[0m\u001b[1;33m)\u001b[0m\u001b[1;33m\u001b[0m\u001b[1;33m\u001b[0m\u001b[0m\n\u001b[1;32m---> 10\u001b[1;33m \u001b[0mprint\u001b[0m\u001b[1;33m(\u001b[0m\u001b[1;34m\"3.\"\u001b[0m\u001b[1;33m,\u001b[0m\u001b[0mt\u001b[0m\u001b[1;33m)\u001b[0m\u001b[1;33m\u001b[0m\u001b[1;33m\u001b[0m\u001b[0m\n\u001b[0m",
      "\u001b[1;31mNameError\u001b[0m: name 't' is not defined"
     ]
    }
   ],
   "source": [
    "def test(t):\n",
    "    t=20\n",
    "    print(\"1.\",t)\n",
    "    x=30\n",
    "    print(\"4.\",x)\n",
    "\n",
    "x=10\n",
    "test(x)\n",
    "print(\"2.\",x)\n",
    "print(\"3.\",t)"
   ]
  },
  {
   "cell_type": "code",
   "execution_count": 12,
   "id": "d04fa55a",
   "metadata": {},
   "outputs": [
    {
     "name": "stdout",
     "output_type": "stream",
     "text": [
      "10\n"
     ]
    }
   ],
   "source": [
    "def c_test(x,y):\n",
    "    return x-y\n",
    "\n",
    "x=20\n",
    "y=30\n",
    "print(c_test(y=20,x=30))"
   ]
  },
  {
   "cell_type": "code",
   "execution_count": 13,
   "id": "973fcbac",
   "metadata": {},
   "outputs": [
    {
     "name": "stdout",
     "output_type": "stream",
     "text": [
      "-10\n"
     ]
    }
   ],
   "source": [
    "def c_test(x,y):\n",
    "    return x-y\n",
    "\n",
    "x=20\n",
    "y=30\n",
    "print(c_test(20,30))"
   ]
  },
  {
   "cell_type": "code",
   "execution_count": 15,
   "id": "d5c978ec",
   "metadata": {},
   "outputs": [
    {
     "name": "stdout",
     "output_type": "stream",
     "text": [
      "-10\n",
      "10\n"
     ]
    }
   ],
   "source": [
    "def c_test(x,y):\n",
    "    return x-y\n",
    "\n",
    "x=20\n",
    "y=30\n",
    "print(c_test(20,30))\n",
    "print(c_test(y=20,x=30))"
   ]
  },
  {
   "cell_type": "code",
   "execution_count": 17,
   "id": "18949ccb",
   "metadata": {},
   "outputs": [
    {
     "name": "stdout",
     "output_type": "stream",
     "text": [
      "-10\n",
      "10\n",
      "10\n",
      "-10\n"
     ]
    }
   ],
   "source": [
    "def c_test(x,y=0):\n",
    "    return x-y\n",
    "\n",
    "print(c_test(20,30))\n",
    "print(c_test(y=20,x=30))\n",
    "print(c_test(10))\n",
    "print(c_test(10,20))"
   ]
  },
  {
   "cell_type": "code",
   "execution_count": 21,
   "id": "3186546f",
   "metadata": {},
   "outputs": [
    {
     "name": "stdout",
     "output_type": "stream",
     "text": [
      "15\n"
     ]
    }
   ],
   "source": [
    "## * unpacking 연산자\n",
    "\n",
    "def c_test(a,b,*args):\n",
    "    return a+b+sum(args)\n",
    "\n",
    "print(c_test(1,2,3,4,5))"
   ]
  },
  {
   "cell_type": "code",
   "execution_count": 22,
   "id": "35e38740",
   "metadata": {},
   "outputs": [
    {
     "name": "stdout",
     "output_type": "stream",
     "text": [
      "1\n",
      "(2, 3, 4)\n",
      "2 3 4\n",
      "9\n",
      "1\n",
      "(2,)\n",
      "2\n",
      "2\n",
      "1\n",
      "(2, 3)\n",
      "2 3\n",
      "5\n",
      "1\n",
      "(2, 3, 4, 5, 6, 7, 8)\n",
      "2 3 4 5 6 7 8\n",
      "35\n"
     ]
    }
   ],
   "source": [
    "def d_test(a,*args):\n",
    "    print(a)\n",
    "    print(args)\n",
    "    print(*args)\n",
    "    print(sum(args))\n",
    "d_test(1,2,3,4)\n",
    "d_test(1,2)\n",
    "d_test(1,2,3)\n",
    "d_test(1,2,3,4,5,6,7,8)"
   ]
  },
  {
   "cell_type": "code",
   "execution_count": 27,
   "id": "31403a2c",
   "metadata": {},
   "outputs": [
    {
     "name": "stdout",
     "output_type": "stream",
     "text": [
      "{'a': 1, 'b': 2, 'c': 3}\n",
      "a b c\n",
      "dict_values([1, 2, 3])\n",
      "{'x': 100, 'y': 200}\n",
      "x y\n",
      "dict_values([100, 200])\n",
      "{'k1': 10, 'k2': 30, 'k3': 40, 'k5': 50}\n",
      "k1 k2 k3 k5\n",
      "dict_values([10, 30, 40, 50])\n"
     ]
    }
   ],
   "source": [
    "def e_test(**kwargs):\n",
    "    print(kwargs)\n",
    "    print(*kwargs)\n",
    "    print(kwargs.values())\n",
    "    \n",
    "e_test(a=1,b=2,c=3)\n",
    "e_test(x=100,y=200)\n",
    "e_test(k1=10,k2=30,k3=40,k5=50)"
   ]
  },
  {
   "cell_type": "raw",
   "id": "e8d477f2",
   "metadata": {},
   "source": [
    "co=['red','blue','green','yellow']\n",
    "result=','.join(co)\n",
    "print(result)\n",
    "result2=result.split(',')\n",
    "print(result2)"
   ]
  },
  {
   "cell_type": "code",
   "execution_count": 28,
   "id": "af57bda9",
   "metadata": {},
   "outputs": [
    {
     "name": "stdout",
     "output_type": "stream",
     "text": [
      "red,blue,green,yellow\n",
      "['red', 'blue', 'green', 'yellow']\n"
     ]
    }
   ],
   "source": [
    "co=['red','blue','green','yellow']\n",
    "result=','.join(co)\n",
    "print(result)\n",
    "result2=result.split(',')\n",
    "print(result2)"
   ]
  },
  {
   "cell_type": "code",
   "execution_count": 32,
   "id": "9e134d6e",
   "metadata": {},
   "outputs": [
    {
     "name": "stdout",
     "output_type": "stream",
     "text": [
      "[-2, -1, 0, 1, 2, 3, 4, 5, 6, 7]\n"
     ]
    }
   ],
   "source": [
    "res2=[i-2 for i in range(10)]\n",
    "print(res2)"
   ]
  },
  {
   "cell_type": "code",
   "execution_count": 33,
   "id": "0bf2cce5",
   "metadata": {},
   "outputs": [
    {
     "name": "stdout",
     "output_type": "stream",
     "text": [
      "[-2, 0, 2, 4, 6]\n"
     ]
    }
   ],
   "source": [
    "res2=[i-2 for i in range(10) if i%2==0]\n",
    "print(res2)"
   ]
  },
  {
   "cell_type": "code",
   "execution_count": 34,
   "id": "16eb6d92",
   "metadata": {},
   "outputs": [
    {
     "name": "stdout",
     "output_type": "stream",
     "text": [
      "[0, 0, 2, 0, 4, 0, 6, 0, 8, 0]\n"
     ]
    }
   ],
   "source": [
    "res2=[i if i%2==0 else 0 for i in range(10) ]\n",
    "print(res2)"
   ]
  },
  {
   "cell_type": "code",
   "execution_count": 38,
   "id": "ed13d4f9",
   "metadata": {},
   "outputs": [
    {
     "name": "stdout",
     "output_type": "stream",
     "text": [
      "['HW', 'Ho', 'Hr', 'Hl', 'Hd', 'eW', 'eo', 'er', 'el', 'ed', 'lW', 'lo', 'lr', 'll', 'ld', 'lW', 'lo', 'lr', 'll', 'ld', 'oW', 'oo', 'or', 'ol', 'od']\n"
     ]
    }
   ],
   "source": [
    "w1=\"Hello\"\n",
    "w2=\"World\"\n",
    "res3=[i+j for i in w1 for j in w2]\n",
    "print(res3)"
   ]
  },
  {
   "cell_type": "code",
   "execution_count": 39,
   "id": "5684cb9a",
   "metadata": {},
   "outputs": [
    {
     "name": "stdout",
     "output_type": "stream",
     "text": [
      "['HW', 'Ho', 'Hr', 'Hl', 'Hd', 'eW', 'eo', 'er', 'el', 'ed', 'lW', 'lo', 'lr', 'ld', 'lW', 'lo', 'lr', 'ld', 'oW', 'or', 'ol', 'od']\n"
     ]
    }
   ],
   "source": [
    "w1=\"Hello\"\n",
    "w2=\"World\"\n",
    "res3=[i+j for i in w1 for j in w2 if not (i==j)]\n",
    "print(res3)"
   ]
  },
  {
   "cell_type": "code",
   "execution_count": 46,
   "id": "72a9a753",
   "metadata": {},
   "outputs": [
    {
     "name": "stdout",
     "output_type": "stream",
     "text": [
      "['The', 'quick', 'brown', 'fox', 'jumps']\n",
      "[['The', 'THE', 'the', 3], ['quick', 'QUICK', 'quick', 5], ['brown', 'BROWN', 'brown', 5], ['fox', 'FOX', 'fox', 3], ['jumps', 'JUMPS', 'jumps', 5]]\n"
     ]
    }
   ],
   "source": [
    "w3=\"The quick brown fox jumps\".split()\n",
    "print(w3)\n",
    "\n",
    "res4=[[w,w.upper(),w.lower(),len(w)] for w in w3]\n",
    "print(res4)"
   ]
  },
  {
   "cell_type": "code",
   "execution_count": 47,
   "id": "d9de7c4a",
   "metadata": {},
   "outputs": [
    {
     "name": "stdout",
     "output_type": "stream",
     "text": [
      "['The', 'quick', 'brown', 'fox', 'jumps']\n",
      "[['The', 'THE', 'the', 3], ['quick', 'QUICK', 'quick', 5], ['brown', 'BROWN', 'brown', 5], ['fox', 'FOX', 'fox', 3], ['jumps', 'JUMPS', 'jumps', 5]]\n"
     ]
    }
   ],
   "source": [
    "w3=\"The quick brown fox jumps\".split()\n",
    "print(w3)\n",
    "res4=[[w,w.upper(),w.lower(),len(w)] for w in w3]\n",
    "print(res4)"
   ]
  },
  {
   "cell_type": "code",
   "execution_count": 50,
   "id": "b0df4a2d",
   "metadata": {},
   "outputs": [
    {
     "name": "stdout",
     "output_type": "stream",
     "text": [
      "0:00:00.227256\n"
     ]
    }
   ],
   "source": [
    "import time\n",
    "import datetime\n",
    "it_max=1000\n",
    "vector=list(range(it_max))\n",
    "scalar=2\n",
    "start=time.time()\n",
    "for _ in range(it_max):\n",
    "    [scalar*i for i in range(it_max)]\n",
    "end=time.time()\n",
    "sec=end-start\n",
    "res5=datetime.timedelta(seconds=sec)\n",
    "print(res5)"
   ]
  },
  {
   "cell_type": "code",
   "execution_count": 56,
   "id": "02a328e7",
   "metadata": {},
   "outputs": [
    {
     "name": "stdout",
     "output_type": "stream",
     "text": [
      "['AD', 'AE', 'AA', 'BD', 'BE', 'BA', 'CD', 'CE', 'CA']\n",
      "['AD', 'AE', 'AA', 'BD', 'BE', 'BA', 'CD', 'CE', 'CA']\n"
     ]
    }
   ],
   "source": [
    "case1=[\"A\",\"B\",\"C\"]\n",
    "case2=[\"D\",\"E\",\"A\"]\n",
    "res6=[i+j for i in case1 for j in case2]\n",
    "print(res6)\n",
    "res7=[[i+j for i in case1] for j in case2]\n",
    "print(res6)"
   ]
  },
  {
   "cell_type": "code",
   "execution_count": null,
   "id": "46fa3165",
   "metadata": {},
   "outputs": [],
   "source": []
  }
 ],
 "metadata": {
  "kernelspec": {
   "display_name": "Python 3 (ipykernel)",
   "language": "python",
   "name": "python3"
  },
  "language_info": {
   "codemirror_mode": {
    "name": "ipython",
    "version": 3
   },
   "file_extension": ".py",
   "mimetype": "text/x-python",
   "name": "python",
   "nbconvert_exporter": "python",
   "pygments_lexer": "ipython3",
   "version": "3.9.7"
  }
 },
 "nbformat": 4,
 "nbformat_minor": 5
}
