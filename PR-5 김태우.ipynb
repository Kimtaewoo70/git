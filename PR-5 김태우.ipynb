{
 "cells": [
  {
   "cell_type": "code",
   "execution_count": 3,
   "id": "87767190",
   "metadata": {},
   "outputs": [
    {
     "name": "stdout",
     "output_type": "stream",
     "text": [
      "1 [2, 3]\n",
      "2. [0, 1, 1]\n"
     ]
    }
   ],
   "source": [
    "##b-test 함수 정의\n",
    "\n",
    "def b_test(eggs):\n",
    "    eggs.append(1)\n",
    "    eggs=[2,3]\n",
    "    print(\"1\",eggs)\n",
    "\n",
    " ##함수 사용\n",
    "ham=[0,1]\n",
    "b_test(ham)\n",
    "print(\"2.\",ham)    "
   ]
  },
  {
   "cell_type": "code",
   "execution_count": 6,
   "id": "5a1ba476",
   "metadata": {},
   "outputs": [
    {
     "name": "stdout",
     "output_type": "stream",
     "text": [
      "10\n",
      "1. 20\n",
      "2. 10\n"
     ]
    }
   ],
   "source": [
    "def test(t):\n",
    "    print(x)\n",
    "    t=20\n",
    "    print(\"1.\",t)\n",
    "\n",
    "x=10\n",
    "test(x)\n",
    "print(\"2.\",x)\n",
    "#print(\"3.\",t)"
   ]
  },
  {
   "cell_type": "code",
   "execution_count": 9,
   "id": "4afe01b8",
   "metadata": {},
   "outputs": [
    {
     "name": "stdout",
     "output_type": "stream",
     "text": [
      "1. 20\n",
      "4. 30\n",
      "2. 10\n"
     ]
    }
   ],
   "source": [
    "def test(t):\n",
    "    t=20\n",
    "    print(\"1.\",t)\n",
    "    x=30\n",
    "    print(\"4.\",x)\n",
    "\n",
    "x=10\n",
    "test(x)\n",
    "print(\"2.\",x)\n",
    "##print(\"3.\",t)"
   ]
  },
  {
   "cell_type": "code",
   "execution_count": 10,
   "id": "16b9a18e",
   "metadata": {},
   "outputs": [
    {
     "name": "stdout",
     "output_type": "stream",
     "text": [
      "1. 20\n",
      "4. 30\n",
      "2. 10\n"
     ]
    },
    {
     "ename": "NameError",
     "evalue": "name 't' is not defined",
     "output_type": "error",
     "traceback": [
      "\u001b[1;31m---------------------------------------------------------------------------\u001b[0m",
      "\u001b[1;31mNameError\u001b[0m                                 Traceback (most recent call last)",
      "\u001b[1;32mC:\\Users\\KTW~1.DES\\AppData\\Local\\Temp/ipykernel_15452/521337350.py\u001b[0m in \u001b[0;36m<module>\u001b[1;34m\u001b[0m\n\u001b[0;32m      8\u001b[0m \u001b[0mtest\u001b[0m\u001b[1;33m(\u001b[0m\u001b[0mx\u001b[0m\u001b[1;33m)\u001b[0m\u001b[1;33m\u001b[0m\u001b[1;33m\u001b[0m\u001b[0m\n\u001b[0;32m      9\u001b[0m \u001b[0mprint\u001b[0m\u001b[1;33m(\u001b[0m\u001b[1;34m\"2.\"\u001b[0m\u001b[1;33m,\u001b[0m\u001b[0mx\u001b[0m\u001b[1;33m)\u001b[0m\u001b[1;33m\u001b[0m\u001b[1;33m\u001b[0m\u001b[0m\n\u001b[1;32m---> 10\u001b[1;33m \u001b[0mprint\u001b[0m\u001b[1;33m(\u001b[0m\u001b[1;34m\"3.\"\u001b[0m\u001b[1;33m,\u001b[0m\u001b[0mt\u001b[0m\u001b[1;33m)\u001b[0m\u001b[1;33m\u001b[0m\u001b[1;33m\u001b[0m\u001b[0m\n\u001b[0m",
      "\u001b[1;31mNameError\u001b[0m: name 't' is not defined"
     ]
    }
   ],
   "source": [
    "def test(t):\n",
    "    t=20\n",
    "    print(\"1.\",t)\n",
    "    x=30\n",
    "    print(\"4.\",x)\n",
    "\n",
    "x=10\n",
    "test(x)\n",
    "print(\"2.\",x)\n",
    "print(\"3.\",t)"
   ]
  },
  {
   "cell_type": "code",
   "execution_count": 12,
   "id": "87dfc8ed",
   "metadata": {},
   "outputs": [
    {
     "name": "stdout",
     "output_type": "stream",
     "text": [
      "10\n"
     ]
    }
   ],
   "source": [
    "def c_test(x,y):\n",
    "    return x-y\n",
    "\n",
    "x=20\n",
    "y=30\n",
    "print(c_test(y=20,x=30))"
   ]
  },
  {
   "cell_type": "code",
   "execution_count": 13,
   "id": "ad790d5f",
   "metadata": {},
   "outputs": [
    {
     "name": "stdout",
     "output_type": "stream",
     "text": [
      "-10\n"
     ]
    }
   ],
   "source": [
    "def c_test(x,y):\n",
    "    return x-y\n",
    "\n",
    "x=20\n",
    "y=30\n",
    "print(c_test(20,30))"
   ]
  },
  {
   "cell_type": "code",
   "execution_count": 15,
   "id": "dcd645ee",
   "metadata": {},
   "outputs": [
    {
     "name": "stdout",
     "output_type": "stream",
     "text": [
      "-10\n",
      "10\n"
     ]
    }
   ],
   "source": [
    "def c_test(x,y):\n",
    "    return x-y\n",
    "\n",
    "x=20\n",
    "y=30\n",
    "print(c_test(20,30))\n",
    "print(c_test(y=20,x=30))"
   ]
  },
  {
   "cell_type": "code",
   "execution_count": 17,
   "id": "c1ff5250",
   "metadata": {},
   "outputs": [
    {
     "name": "stdout",
     "output_type": "stream",
     "text": [
      "-10\n",
      "10\n",
      "10\n",
      "-10\n"
     ]
    }
   ],
   "source": [
    "def c_test(x,y=0):\n",
    "    return x-y\n",
    "\n",
    "print(c_test(20,30))\n",
    "print(c_test(y=20,x=30))\n",
    "print(c_test(10))\n",
    "print(c_test(10,20))"
   ]
  },
  {
   "cell_type": "code",
   "execution_count": 21,
   "id": "6597f8ae",
   "metadata": {},
   "outputs": [
    {
     "name": "stdout",
     "output_type": "stream",
     "text": [
      "15\n"
     ]
    }
   ],
   "source": [
    "## * unpacking 연산자\n",
    "\n",
    "def c_test(a,b,*args):\n",
    "    return a+b+sum(args)\n",
    "\n",
    "print(c_test(1,2,3,4,5))"
   ]
  },
  {
   "cell_type": "code",
   "execution_count": 22,
   "id": "8dd7a6f5",
   "metadata": {},
   "outputs": [
    {
     "name": "stdout",
     "output_type": "stream",
     "text": [
      "1\n",
      "(2, 3, 4)\n",
      "2 3 4\n",
      "9\n",
      "1\n",
      "(2,)\n",
      "2\n",
      "2\n",
      "1\n",
      "(2, 3)\n",
      "2 3\n",
      "5\n",
      "1\n",
      "(2, 3, 4, 5, 6, 7, 8)\n",
      "2 3 4 5 6 7 8\n",
      "35\n"
     ]
    }
   ],
   "source": [
    "def d_test(a,*args):\n",
    "    print(a)\n",
    "    print(args)\n",
    "    print(*args)\n",
    "    print(sum(args))\n",
    "d_test(1,2,3,4)\n",
    "d_test(1,2)\n",
    "d_test(1,2,3)\n",
    "d_test(1,2,3,4,5,6,7,8)"
   ]
  },
  {
   "cell_type": "code",
   "execution_count": 27,
   "id": "faa9a207",
   "metadata": {},
   "outputs": [
    {
     "name": "stdout",
     "output_type": "stream",
     "text": [
      "{'a': 1, 'b': 2, 'c': 3}\n",
      "a b c\n",
      "dict_values([1, 2, 3])\n",
      "{'x': 100, 'y': 200}\n",
      "x y\n",
      "dict_values([100, 200])\n",
      "{'k1': 10, 'k2': 30, 'k3': 40, 'k5': 50}\n",
      "k1 k2 k3 k5\n",
      "dict_values([10, 30, 40, 50])\n"
     ]
    }
   ],
   "source": [
    "def e_test(**kwargs):\n",
    "    print(kwargs)\n",
    "    print(*kwargs)\n",
    "    print(kwargs.values())\n",
    "    \n",
    "e_test(a=1,b=2,c=3)\n",
    "e_test(x=100,y=200)\n",
    "e_test(k1=10,k2=30,k3=40,k5=50)"
   ]
  },
  {
   "cell_type": "code",
   "execution_count": null,
   "id": "b3cffac4",
   "metadata": {},
   "outputs": [],
   "source": []
  }
 ],
 "metadata": {
  "kernelspec": {
   "display_name": "Python 3 (ipykernel)",
   "language": "python",
   "name": "python3"
  },
  "language_info": {
   "codemirror_mode": {
    "name": "ipython",
    "version": 3
   },
   "file_extension": ".py",
   "mimetype": "text/x-python",
   "name": "python",
   "nbconvert_exporter": "python",
   "pygments_lexer": "ipython3",
   "version": "3.9.7"
  }
 },
 "nbformat": 4,
 "nbformat_minor": 5
}
